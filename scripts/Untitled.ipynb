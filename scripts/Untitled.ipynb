{
 "cells": [
  {
   "cell_type": "code",
   "execution_count": 1,
   "metadata": {},
   "outputs": [
    {
     "name": "stdout",
     "output_type": "stream",
     "text": [
      "3.6.5\n"
     ]
    }
   ],
   "source": [
    "import platform\n",
    " \n",
    "print(platform.python_version()) \n"
   ]
  },
  {
   "cell_type": "code",
   "execution_count": 6,
   "metadata": {},
   "outputs": [
    {
     "data": {
      "image/png": "[encoded data removed]",
      "text/plain": [
       "<matplotlib.figure.Figure at 0x10b3dc240>"
      ]
     },
     "metadata": {},
     "output_type": "display_data"
    }
   ],
   "source": [
    "%matplotlib inline\n",
    "sns.palplot(qual_palette)\n",
    "plt.show()"
   ]
  },
  {
   "cell_type": "code",
   "execution_count": 9,
   "metadata": {},
   "outputs": [
    {
     "data": {
      "text/plain": [
       "[(0.66294119656085959, 0.80411765873432151, 0.87823530137538919),\n",
       " (0.15480123151605041, 0.46756247850755872, 0.67824761366873398),\n",
       " (0.69069359706897349, 0.8519531033436456, 0.55998080282819052),\n",
       " (0.23127105394706995, 0.61066207408028494, 0.20382468880099402),\n",
       " (0.96375778759665331, 0.61708652743083603, 0.61368168334312323),\n",
       " (0.85129104817322654, 0.14380315431485002, 0.14972702928910084),\n",
       " (0.9638700506397907, 0.74312265876899741, 0.46190465573440564),\n",
       " (0.95016839677796661, 0.50114417558207225, 0.054860438336344242),\n",
       " (0.78101500660181078, 0.69456518444944848, 0.82635756508392477),\n",
       " (0.42511726825552787, 0.26878508444218019, 0.58622455149012453)]"
      ]
     },
     "execution_count": 9,
     "metadata": {},
     "output_type": "execute_result"
    }
   ],
   "source": [
    "qual_palette"
   ]
  },
  {
   "cell_type": "code",
   "execution_count": 10,
   "metadata": {},
   "outputs": [
    {
     "name": "stdout",
     "output_type": "stream",
     "text": [
      "#a9cde0\n",
      "#2777ad\n",
      "#b0d98f\n",
      "#3b9c34\n",
      "#f69d9c\n",
      "#d92526\n",
      "#f6bd76\n",
      "#f2800e\n",
      "#c7b1d3\n",
      "#6c4595\n"
     ]
    }
   ],
   "source": [
    "for rgb in qual_palette:\n",
    "    print(matplotlib.colors.rgb2hex(rgb))"
   ]
  },
  {
   "cell_type": "code",
   "execution_count": 11,
   "metadata": {},
   "outputs": [
    {
     "data": {
      "image/png": "[encoded data removed]",
      "text/plain": [
       "<matplotlib.figure.Figure at 0x10e2ac7f0>"
      ]
     },
     "metadata": {},
     "output_type": "display_data"
    }
   ],
   "source": [
    "sns.palplot(qual_palette)\n",
    "plt.show()"
   ]
  },
  {
   "cell_type": "code",
   "execution_count": null,
   "metadata": {
    "collapsed": true
   },
   "outputs": [],
   "source": []
  }
 ],
 "metadata": {
  "kernelspec": {
   "display_name": "Python 3",
   "language": "python",
   "name": "python3"
  },
  "language_info": {
   "codemirror_mode": {
    "name": "ipython",
    "version": 3
   },
   "file_extension": ".py",
   "mimetype": "text/x-python",
   "name": "python",
   "nbconvert_exporter": "python",
   "pygments_lexer": "ipython3",
   "version": "3.6.5"
  }
 },
 "nbformat": 4,
 "nbformat_minor": 1
}
