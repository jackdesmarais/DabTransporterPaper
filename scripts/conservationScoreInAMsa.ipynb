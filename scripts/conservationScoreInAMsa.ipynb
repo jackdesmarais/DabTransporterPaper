{
 "cells": [
  {
   "cell_type": "code",
   "execution_count": 36,
   "metadata": {},
   "outputs": [],
   "source": [
    "%matplotlib inline\n",
    "from matplotlib import pyplot as plt\n",
    "import matplotlib\n",
    "\n",
    "import pandas as pd\n",
    "import numpy as np\n",
    "import seaborn as sns\n",
    "from utils import *\n",
    "from Bio import AlignIO\n",
    "from Bio import Seq\n",
    "import collections\n",
    "\n"
   ]
  },
  {
   "cell_type": "code",
   "execution_count": 87,
   "metadata": {},
   "outputs": [],
   "source": [
    "def getSeq(ID, align):\n",
    "    for seq in align:\n",
    "        if ID in seq.id:\n",
    "            return(seq)\n",
    "    return('failure')\n",
    "\n",
    "def seqPosFromAliPos(ID, align,offset):\n",
    "    seq = getSeq(ID, align)\n",
    "    mapping = [0]*len(seq)\n",
    "    j = offset\n",
    "    for i, res in enumerate(seq.seq):\n",
    "        if res!='-':\n",
    "            mapping[i]=j\n",
    "            j+=1\n",
    "        else:\n",
    "            mapping[i]=-1\n",
    "    return(mapping)\n",
    "\n",
    "def aliPosFromSeqPos(pos,mapping):\n",
    "    return(mapping.index(pos))\n",
    "\n",
    "def getConserved(alignInFile,alignFormat,ID,ref,IDoff,refoff):\n",
    "    align = AlignIO.read(alignInFile,alignFormat)\n",
    "    conserved=[]\n",
    "    refNum = seqPosFromAliPos(ref, align,refoff)\n",
    "    mapping = seqPosFromAliPos(ID, align,IDoff)\n",
    "    for i in range(align.get_alignment_length()):\n",
    "        letters = collections.Counter(align[:,i])\n",
    "#         if ((letters.most_common()[0][0]!='-')&(letters.most_common()[0][1]/len(align[:,i])>0.6)):\n",
    "        conserved.append({'AAnum dab2':mapping[i]+1,\n",
    "                          'AAnum dab1':refNum[i]+1,\n",
    "                          'conservedResi':letters.most_common()[0][0],\n",
    "                          'percent ID':letters.most_common()[0][1]/len(align[:,i])})\n",
    "    return(np.array(conserved))"
   ]
  },
  {
   "cell_type": "code",
   "execution_count": 104,
   "metadata": {},
   "outputs": [
    {
     "name": "stdout",
     "output_type": "stream",
     "text": [
      "SingleLetterAlphabet() alignment with 197 rows and 1614 columns\n",
      "--------------------------------------------...--- 1163915:1:494:COG-NuoL:SAB0402:NADH\n",
      "--------------------------------------------...--- 665750:1:494:COG-NuoL:SAR0452:putative\n",
      "--------------------------------------------...--- 911962:1:494:nuoF:SACOL0494:NADH\n",
      "--------------------------------------------...--- 6212222:1:494:COG-NuoL:SauraJK_010100008930:NADH\n",
      "--------------------------------------------...--- 6213482:1:494:COG-NuoL:SauraJ_010100001606:NADH\n",
      "--------------------------------------------...--- 1291940:1:494:COG-NuoL:SAUSA300_0425:NADH\n",
      "--------------------------------------------...--- 3773960:1:494:COG-NuoL:USA300HOU_0457:NADH\n",
      "--------------------------------------------...--- 1288892:1:494:COG-NuoL:SAOUHSC_00412:NADH\n",
      "--------------------------------------------...--- 3705949:1:494:ndhF:NWMN_0418:NADH\n",
      "--------------------------------------------...--- 260621:1:494:ndhF:VIMSS260621:NADH\n",
      "--------------------------------------------...--- 668562:1:494:COG-NuoL:SAS0410:putative\n",
      "--------------------------------------------...--- 102689:1:494:ndhF:SA0411:NADH\n",
      "--------------------------------------------...--- 3678778:1:494:ndhF:SAHV_0450:NADH\n",
      "--------------------------------------------...--- 6998784:1:494:COG-NuoL:SaurJH9_0474:NADH\n",
      "--------------------------------------------...--- 112474:1:494:ndhF:SAV0452:NADH\n",
      "--------------------------------------------...--- 7001644:1:494:COG-NuoL:SaurJH1_0487:NADH\n",
      "--------------------------------------------...--- 10449096:1:494:nuoF:SAAV_0395:NADH\n",
      "--------------------------------------------...--- 6431864:1:499:COG-NuoL:STACA0001_1468:probable\n",
      "...\n",
      "--------------------------------------------...--- 11010332:3:136:Hbor_38530:Hbor_38530:Hbor_38530:469382:Halogeometricum\n",
      "number of proteins in alignment: 197\n",
      "\n",
      "ID: 7582702:13:536:COG-NuoL:Hneap_0212:NADH\n",
      "Name: <unknown name>\n",
      "Description: 7582702:13:536:COG-NuoL:Hneap_0212:NADH\n",
      "Number of features: 0\n",
      "Seq('------------------------------------------------------...---', SingleLetterAlphabet())\n",
      "\n",
      "ID: 7583425:6:533:COG-NuoL:Hneap_0909:NADH/Ubiquinone/plastoquinone\n",
      "Name: <unknown name>\n",
      "Description: 7583425:6:533:COG-NuoL:Hneap_0909:NADH/Ubiquinone/plastoquinone\n",
      "Number of features: 0\n",
      "Seq('------------------------------------------------------...---', SingleLetterAlphabet())\n"
     ]
    }
   ],
   "source": [
    "infile = \"../data/msa/dabB_microbesOnline.clustal\"\n",
    "align = AlignIO.read(infile, \"clustal\")\n",
    "print(align)\n",
    "print('number of proteins in alignment: %d'%len(align))\n",
    "print()\n",
    "dabB2 = 'Hneap_0212'\n",
    "print(getSeq(dabB2,align))\n",
    "print()\n",
    "dabB1 = 'Hneap_0909'\n",
    "print(getSeq(dabB1,align))"
   ]
  },
  {
   "cell_type": "code",
   "execution_count": 106,
   "metadata": {},
   "outputs": [
    {
     "name": "stdout",
     "output_type": "stream",
     "text": [
      "[{'AAnum dab2': 125, 'AAnum dab1': 104, 'conservedResi': 'Y', 'percent ID': 0.9238578680203046}\n",
      " {'AAnum dab2': 162, 'AAnum dab1': 141, 'conservedResi': 'W', 'percent ID': 0.934010152284264}\n",
      " {'AAnum dab2': 172, 'AAnum dab1': 151, 'conservedResi': 'L', 'percent ID': 0.949238578680203}\n",
      " {'AAnum dab2': 252, 'AAnum dab1': 235, 'conservedResi': 'P', 'percent ID': 0.9238578680203046}\n",
      " {'AAnum dab2': 256, 'AAnum dab1': 239, 'conservedResi': 'W', 'percent ID': 0.9593908629441624}\n",
      " {'AAnum dab2': 257, 'AAnum dab1': 240, 'conservedResi': 'L', 'percent ID': 0.9390862944162437}\n",
      " {'AAnum dab2': 264, 'AAnum dab1': 247, 'conservedResi': 'P', 'percent ID': 0.9543147208121827}\n",
      " {'AAnum dab2': 265, 'AAnum dab1': 248, 'conservedResi': 'T', 'percent ID': 0.9593908629441624}\n",
      " {'AAnum dab2': 266, 'AAnum dab1': 249, 'conservedResi': 'P', 'percent ID': 0.949238578680203}\n",
      " {'AAnum dab2': 268, 'AAnum dab1': 251, 'conservedResi': 'S', 'percent ID': 0.9644670050761421}\n",
      " {'AAnum dab2': 269, 'AAnum dab1': 252, 'conservedResi': 'A', 'percent ID': 0.949238578680203}\n",
      " {'AAnum dab2': 272, 'AAnum dab1': 255, 'conservedResi': 'H', 'percent ID': 0.9644670050761421}\n",
      " {'AAnum dab2': 273, 'AAnum dab1': 256, 'conservedResi': 'A', 'percent ID': 0.9593908629441624}\n",
      " {'AAnum dab2': 274, 'AAnum dab1': 257, 'conservedResi': 'G', 'percent ID': 0.9644670050761421}\n",
      " {'AAnum dab2': 277, 'AAnum dab1': 260, 'conservedResi': 'N', 'percent ID': 0.949238578680203}\n",
      " {'AAnum dab2': 279, 'AAnum dab1': 262, 'conservedResi': 'G', 'percent ID': 0.934010152284264}\n",
      " {'AAnum dab2': 322, 'AAnum dab1': 305, 'conservedResi': 'K', 'percent ID': 0.9644670050761421}\n",
      " {'AAnum dab2': 325, 'AAnum dab1': 308, 'conservedResi': 'L', 'percent ID': 0.9644670050761421}\n",
      " {'AAnum dab2': 328, 'AAnum dab1': 311, 'conservedResi': 'S', 'percent ID': 0.9644670050761421}\n",
      " {'AAnum dab2': 329, 'AAnum dab1': 312, 'conservedResi': 'T', 'percent ID': 0.934010152284264}\n",
      " {'AAnum dab2': 332, 'AAnum dab1': 315, 'conservedResi': 'Q', 'percent ID': 0.934010152284264}\n",
      " {'AAnum dab2': 333, 'AAnum dab1': 316, 'conservedResi': 'M', 'percent ID': 0.949238578680203}\n",
      " {'AAnum dab2': 334, 'AAnum dab1': 317, 'conservedResi': 'G', 'percent ID': 0.949238578680203}\n",
      " {'AAnum dab2': 336, 'AAnum dab1': 319, 'conservedResi': 'M', 'percent ID': 0.9543147208121827}\n",
      " {'AAnum dab2': 348, 'AAnum dab1': 331, 'conservedResi': 'A', 'percent ID': 0.9644670050761421}\n",
      " {'AAnum dab2': 351, 'AAnum dab1': 334, 'conservedResi': 'H', 'percent ID': 0.9593908629441624}\n",
      " {'AAnum dab2': 355, 'AAnum dab1': 338, 'conservedResi': 'H', 'percent ID': 0.9644670050761421}\n",
      " {'AAnum dab2': 359, 'AAnum dab1': 342, 'conservedResi': 'K', 'percent ID': 0.9644670050761421}\n",
      " {'AAnum dab2': 360, 'AAnum dab1': 343, 'conservedResi': 'A', 'percent ID': 0.9035532994923858}\n",
      " {'AAnum dab2': 363, 'AAnum dab1': 346, 'conservedResi': 'F', 'percent ID': 0.9746192893401016}\n",
      " {'AAnum dab2': 367, 'AAnum dab1': 350, 'conservedResi': 'G', 'percent ID': 0.9137055837563451}]\n"
     ]
    },
    {
     "data": {
      "image/png": "[encoded data removed]",
      "text/plain": [
       "<Figure size 1440x144 with 1 Axes>"
      ]
     },
     "metadata": {},
     "output_type": "display_data"
    },
    {
     "data": {
      "image/png": "[encoded data removed]",
      "text/plain": [
       "<Figure size 1440x144 with 1 Axes>"
      ]
     },
     "metadata": {},
     "output_type": "display_data"
    }
   ],
   "source": [
    "identity = getConserved(infile,'clustal',dabB2,dabB1,12,6)\n",
    "# goodResi = {351,353,524,539}\n",
    "ninteypct = identity[[(x['percent ID']>0.9) & (x['conservedResi'] != '-') for x in identity]]\n",
    "print(ninteypct)\n",
    "conserve_df = pd.DataFrame.from_records(identity)\n",
    "conserve_df=conserve_df.sort_values('AAnum dab2')\n",
    "goodResi = {-10}\n",
    "conserve_df['active_site'] = conserve_df['percent ID']*conserve_df['AAnum dab2'].isin(goodResi)\n",
    "\n",
    "\n",
    "plt.figure(figsize=(20,2))\n",
    "plt.bar(conserve_df['AAnum dab2'],conserve_df['percent ID'])\n",
    "# active_site = conserve_df[conserve_df['AAnum dabA2'].isin(goodResi)]\n",
    "# plt.bar(active_site['AAnum dab2'],active_site['percent ID'],color = 'r')\n",
    "plt.xlim(1,max(conserve_df['AAnum dab2']))\n",
    "plt.show()\n",
    "\n",
    "plt.figure(figsize=(20,2))\n",
    "plt.bar(conserve_df['AAnum dab1'],conserve_df['percent ID'])\n",
    "# active_site = conserve_df[conserve_df['AAnum dabA2'].isin(goodResi)]\n",
    "# plt.bar(active_site['AAnum dab2'],active_site['percent ID'],color = 'r')\n",
    "plt.xlim(1,max(conserve_df['AAnum dab1']))\n",
    "plt.show()\n",
    "\n",
    "conserve_df.to_csv(infile+'.csv')"
   ]
  },
  {
   "cell_type": "code",
   "execution_count": 107,
   "metadata": {},
   "outputs": [
    {
     "name": "stdout",
     "output_type": "stream",
     "text": [
      "SingleLetterAlphabet() alignment with 4781 rows and 1980 columns\n",
      "VQLAGEVIAQYWPMR-TFIHHNPLHGL--E-SLPFEQAVQ---H...GWV WP_053380624/21-1043\n",
      "VELAGEAISSYWPMR-TFIHHNPLHGL--E-ELPFGPAVK---R...EWV WP_013248325/20-1048\n",
      "VELAGEAISSYWPMR-TFIHHNPLHGL--E-DLPFGQAVK---R...EWV WP_080878007/20-1048\n",
      "-QLAGECVSQYWPMR-TFIHHNPLHGL--E-GMPFELAVE---H...GWI OYT20765/23-1041\n",
      "-QLAGECVSQYWPMR-TFIHHNPLHGL--E-RMPFELAVE---H...GWI WP_090744791/23-1041\n",
      "-RVAGEITGTYWPMR-TFIHHNPLHGL--E-ELPFHDAIQ---R...EWV WP_083448025/25-1065\n",
      "-KLASESVAPYWPMR-TFIHHNPLHEL--E-SRSFHEAVQ---R...RWV OLE42792/18-1077\n",
      "VQMAGEPIPFFWPMR-TFIHHNPLHGL--E-HMPFEQATT---E...GWI WP_081662595/15-1000\n",
      "-KLASESVAPYWPMR-TFIHHNPLHEL--E-SRSFHEAVQ---R...RWV OLC41483/18-1077\n",
      "-SLAGEVIPRVWPMQ-TIIARNPLQGL--E-DQKFEDAVE---R...QWL OYT24854/43-1071\n",
      "-SLAGEVIPRVWPMQ-TIIARNPLQGL--E-DQKFEDAVE---R...QWL SLM42748/24-1052\n",
      "-SLAGEVIPRVWPMQ-TIIARNPLQGL--E-DQKFEDAVE---R...QWL WP_080878002/43-1071\n",
      "VNLAGETISYFWPMK-TFIHHNPLHGL--E-EMSFEKAIK---E...QWI WP_005005277/24-1058\n",
      "VNLAGEVVARLWPMR-TFISRNPLQGL--E-HLPFSEAVQ---R...HWL OQW62488/23-1052\n",
      "VELAGEAIAAYWPMR-TFIHHNPLHGL--E-HLPFDQAVK---R...EWV ODT44845/20-1048\n",
      "VQLAGEVIAQYWPMR-TFVHHNPLHSL--E-YLPFEETVR---R...EWV PLY30726/21-1045\n",
      "VNLAGEVIARLWPMR-TFISRNPLQGL--E-ELSFDAAVT---R...GWM KXK07752/15-1049\n",
      "-RLAGEVIAQYWPMR-TFVHHNPLHSL--E-YLPFEETVR---R...EWV SLM47167/22-1041\n",
      "...\n",
      "--------------------------------------------...--- KMS25986/2-75\n",
      "number of proteins in alignment: 4781\n",
      "ID: WP_012823110/21-802\n",
      "Name: WP_012823110/21-802\n",
      "Description: WP_012823110/21-802\n",
      "Number of features: 0\n",
      "Seq('IDKACLRIAPIWPLD-SFVAVNPYLGL--I-DQPFDTVGR---YLEQTVGESLF...RWM', SingleLetterAlphabet())\n",
      "ID: WP_012823786/16-1003\n",
      "Name: WP_012823786/16-1003\n",
      "Description: WP_012823786/16-1003\n",
      "Number of features: 0\n",
      "Seq('VHMAAEPIPNFWPMR-TFIHHNPLHGL--E-HLPFEQAVR---QGEKLFHARGF...GWI', SingleLetterAlphabet())\n"
     ]
    }
   ],
   "source": [
    "infile = \"../data/msa/PF10070_ncbi.txt\"\n",
    "align = AlignIO.read(infile, \"fasta\")\n",
    "print(align)\n",
    "print('number of proteins in alignment: %d'%len(align))\n",
    "dabA2 = 'WP_012823110'\n",
    "print(getSeq(dabA2,align))\n",
    "dabA1 = 'WP_012823786'\n",
    "print(getSeq(dabA1,align))"
   ]
  },
  {
   "cell_type": "code",
   "execution_count": 108,
   "metadata": {},
   "outputs": [
    {
     "name": "stdout",
     "output_type": "stream",
     "text": [
      "[{'AAnum dab2': 229, 'AAnum dab1': 268, 'conservedResi': 'G', 'percent ID': 0.9205187199330684}\n",
      " {'AAnum dab2': 230, 'AAnum dab1': 269, 'conservedResi': 'W', 'percent ID': 0.9117339468730391}\n",
      " {'AAnum dab2': 351, 'AAnum dab1': 462, 'conservedResi': 'C', 'percent ID': 0.9192637523530642}\n",
      " {'AAnum dab2': 353, 'AAnum dab1': 464, 'conservedResi': 'D', 'percent ID': 0.9186362685630621}\n",
      " {'AAnum dab2': 355, 'AAnum dab1': 466, 'conservedResi': 'R', 'percent ID': 0.9190545910897302}\n",
      " {'AAnum dab2': 360, 'AAnum dab1': 471, 'conservedResi': 'R', 'percent ID': 0.9182179460363941}\n",
      " {'AAnum dab2': 361, 'AAnum dab1': 472, 'conservedResi': 'R', 'percent ID': 0.904622463919682}\n",
      " {'AAnum dab2': 364, 'AAnum dab1': 475, 'conservedResi': 'E', 'percent ID': 0.9161263334030537}\n",
      " {'AAnum dab2': 372, 'AAnum dab1': 482, 'conservedResi': 'T', 'percent ID': 0.9154988496130516}\n",
      " {'AAnum dab2': 374, 'AAnum dab1': 484, 'conservedResi': 'G', 'percent ID': 0.9075507216063585}\n",
      " {'AAnum dab2': 377, 'AAnum dab1': 487, 'conservedResi': 'G', 'percent ID': 0.9056682702363522}\n",
      " {'AAnum dab2': 378, 'AAnum dab1': 488, 'conservedResi': 'F', 'percent ID': 0.9054591089730182}\n",
      " {'AAnum dab2': 379, 'AAnum dab1': 489, 'conservedResi': 'F', 'percent ID': 0.9094331729763647}\n",
      " {'AAnum dab2': 398, 'AAnum dab1': 508, 'conservedResi': 'P', 'percent ID': 0.9163354946663878}\n",
      " {'AAnum dab2': 524, 'AAnum dab1': 721, 'conservedResi': 'H', 'percent ID': 0.9236561388830788}\n",
      " {'AAnum dab2': 530, 'AAnum dab1': 727, 'conservedResi': 'N', 'percent ID': 0.9230286550930767}\n",
      " {'AAnum dab2': 531, 'AAnum dab1': 728, 'conservedResi': 'N', 'percent ID': 0.9117339468730391}\n",
      " {'AAnum dab2': 539, 'AAnum dab1': 736, 'conservedResi': 'C', 'percent ID': 0.9234469776197448}\n",
      " {'AAnum dab2': 540, 'AAnum dab1': 737, 'conservedResi': 'G', 'percent ID': 0.9211462037230704}\n",
      " {'AAnum dab2': 541, 'AAnum dab1': 738, 'conservedResi': 'A', 'percent ID': 0.9228194938297427}\n",
      " {'AAnum dab2': 542, 'AAnum dab1': 739, 'conservedResi': 'C', 'percent ID': 0.9159171721397197}\n",
      " {'AAnum dab2': 544, 'AAnum dab1': 741, 'conservedResi': 'G', 'percent ID': 0.910897301819703}\n",
      " {'AAnum dab2': 559, 'AAnum dab1': 756, 'conservedResi': 'N', 'percent ID': 0.9165446559297218}\n",
      " {'AAnum dab2': 585, 'AAnum dab1': 782, 'conservedResi': 'H', 'percent ID': 0.9098514955030328}\n",
      " {'AAnum dab2': 587, 'AAnum dab1': 784, 'conservedResi': 'T', 'percent ID': 0.9219828487764066}\n",
      " {'AAnum dab2': 625, 'AAnum dab1': 823, 'conservedResi': 'R', 'percent ID': 0.9075507216063585}\n",
      " {'AAnum dab2': 654, 'AAnum dab1': 856, 'conservedResi': 'P', 'percent ID': 0.911106463083037}\n",
      " {'AAnum dab2': 655, 'AAnum dab1': 857, 'conservedResi': 'E', 'percent ID': 0.9173813009830579}\n",
      " {'AAnum dab2': 669, 'AAnum dab1': 871, 'conservedResi': 'R', 'percent ID': 0.9115247856097051}\n",
      " {'AAnum dab2': 682, 'AAnum dab1': 884, 'conservedResi': 'F', 'percent ID': 0.9138255595063794}\n",
      " {'AAnum dab2': 683, 'AAnum dab1': 885, 'conservedResi': 'L', 'percent ID': 0.9010667224430036}\n",
      " {'AAnum dab2': 686, 'AAnum dab1': 888, 'conservedResi': 'Y', 'percent ID': 0.910897301819703}\n",
      " {'AAnum dab2': 691, 'AAnum dab1': 893, 'conservedResi': 'D', 'percent ID': 0.9196820748797323}\n",
      " {'AAnum dab2': 697, 'AAnum dab1': 899, 'conservedResi': 'L', 'percent ID': 0.9119431081363731}\n",
      " {'AAnum dab2': 707, 'AAnum dab1': 909, 'conservedResi': 'V', 'percent ID': 0.9157080108763856}\n",
      " {'AAnum dab2': 711, 'AAnum dab1': 913, 'conservedResi': 'I', 'percent ID': 0.917799623509726}\n",
      " {'AAnum dab2': 726, 'AAnum dab1': 928, 'conservedResi': 'G', 'percent ID': 0.9163354946663878}\n",
      " {'AAnum dab2': 728, 'AAnum dab1': 930, 'conservedResi': 'G', 'percent ID': 0.9173813009830579}\n",
      " {'AAnum dab2': 730, 'AAnum dab1': 932, 'conservedResi': 'K', 'percent ID': 0.9190545910897302}\n",
      " {'AAnum dab2': 741, 'AAnum dab1': 942, 'conservedResi': 'G', 'percent ID': 0.9062957540263543}\n",
      " {'AAnum dab2': 745, 'AAnum dab1': 946, 'conservedResi': 'G', 'percent ID': 0.91800878477306}\n",
      " {'AAnum dab2': 750, 'AAnum dab1': 951, 'conservedResi': 'L', 'percent ID': 0.9065049152896884}\n",
      " {'AAnum dab2': 753, 'AAnum dab1': 954, 'conservedResi': 'G', 'percent ID': 0.9196820748797323}\n",
      " {'AAnum dab2': 754, 'AAnum dab1': 955, 'conservedResi': 'L', 'percent ID': 0.9088056891863627}\n",
      " {'AAnum dab2': 757, 'AAnum dab1': 958, 'conservedResi': 'Q', 'percent ID': 0.917799623509726}\n",
      " {'AAnum dab2': 767, 'AAnum dab1': 968, 'conservedResi': 'H', 'percent ID': 0.9192637523530642}\n",
      " {'AAnum dab2': 771, 'AAnum dab1': 972, 'conservedResi': 'R', 'percent ID': 0.917590462246392}\n",
      " {'AAnum dab2': 801, 'AAnum dab1': 1002, 'conservedResi': 'W', 'percent ID': 0.91800878477306}]\n"
     ]
    },
    {
     "data": {
      "image/png": "[encoded data removed]",
      "text/plain": [
       "<Figure size 1440x144 with 1 Axes>"
      ]
     },
     "metadata": {},
     "output_type": "display_data"
    },
    {
     "data": {
      "image/png": "[encoded data removed]",
      "text/plain": [
       "<Figure size 1440x144 with 1 Axes>"
      ]
     },
     "metadata": {},
     "output_type": "display_data"
    }
   ],
   "source": [
    "identity = getConserved(infile,'fasta',dabA2,dabA1,20,15)\n",
    "goodResi = {351,353,524,539}\n",
    "ninteypct = identity[[(x['percent ID']>0.9) & (x['conservedResi'] != '-') for x in identity]]\n",
    "print(ninteypct)\n",
    "\n",
    "conserve_df = pd.DataFrame.from_records(identity)\n",
    "conserve_df=conserve_df.sort_values('AAnum dab2')\n",
    "plt.figure(figsize=(20,2))\n",
    "plt.bar(conserve_df['AAnum dab2'],conserve_df['percent ID'])\n",
    "goodResi = {351,353,524,539}\n",
    "conserve_df['active_site'] = conserve_df['percent ID']*conserve_df['AAnum dab2'].isin(goodResi)\n",
    "plt.bar(conserve_df['AAnum dab2'],conserve_df['active_site'],color = 'r')\n",
    "plt.xlim(1,max(conserve_df['AAnum dab2']))\n",
    "plt.show()\n",
    "\n",
    "plt.figure(figsize=(20,2))\n",
    "plt.bar(conserve_df['AAnum dab1'],conserve_df['percent ID'])\n",
    "plt.bar(conserve_df['AAnum dab1'],conserve_df['active_site'],color = 'r')\n",
    "plt.xlim(1,max(conserve_df['AAnum dab1']))\n",
    "plt.show()\n",
    "\n",
    "conserve_df.to_csv(infile+'.csv')"
   ]
  }
 ],
 "metadata": {
  "kernelspec": {
   "display_name": "Python 3",
   "language": "python",
   "name": "python3"
  },
  "language_info": {
   "codemirror_mode": {
    "name": "ipython",
    "version": 3
   },
   "file_extension": ".py",
   "mimetype": "text/x-python",
   "name": "python",
   "nbconvert_exporter": "python",
   "pygments_lexer": "ipython3",
   "version": "3.6.5"
  }
 },
 "nbformat": 4,
 "nbformat_minor": 2
}
