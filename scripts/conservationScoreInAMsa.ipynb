{
 "cells": [
  {
   "cell_type": "code",
   "execution_count": 1,
   "metadata": {},
   "outputs": [],
   "source": [
    "%matplotlib inline\n",
    "from matplotlib import pyplot as plt\n",
    "import matplotlib\n",
    "\n",
    "import pandas as pd\n",
    "import numpy as np\n",
    "import seaborn as sns\n",
    "from utils import *\n",
    "from Bio import AlignIO\n",
    "from Bio import Seq\n",
    "import collections\n",
    "\n"
   ]
  },
  {
   "cell_type": "code",
   "execution_count": 2,
   "metadata": {},
   "outputs": [],
   "source": [
    "def getSeq(ID, align):\n",
    "    for seq in align:\n",
    "        if ID in seq.id:\n",
    "            return(seq)\n",
    "    return('failure')\n",
    "\n",
    "def seqPosFromAliPos(ID, align,offset):\n",
    "    seq = getSeq(ID, align)\n",
    "    mapping = [0]*len(seq)\n",
    "    j = offset\n",
    "    for i, res in enumerate(seq.seq):\n",
    "        if res!='-':\n",
    "            mapping[i]=j\n",
    "            j+=1\n",
    "        else:\n",
    "            mapping[i]=-1\n",
    "    return(mapping)\n",
    "\n",
    "def aliPosFromSeqPos(pos,mapping):\n",
    "    return(mapping.index(pos))\n",
    "\n",
    "def getConserved(alignInFile,alignFormat,ID,ref,IDoff,refoff):\n",
    "    align = AlignIO.read(alignInFile,alignFormat)\n",
    "    conserved=[]\n",
    "    seq =getSeq(ID,align)\n",
    "    refSeq =getSeq(ref,align)\n",
    "    refNum = seqPosFromAliPos(ref, align,refoff)\n",
    "    mapping = seqPosFromAliPos(ID, align,IDoff)\n",
    "    for i in range(align.get_alignment_length()):\n",
    "        letters = collections.Counter(align[:,i])\n",
    "#         if ((letters.most_common()[0][0]!='-')&(letters.most_common()[0][1]/len(align[:,i])>0.6)):\n",
    "        conserved.append({'AAnum dab2':mapping[i]+1,\n",
    "                          'dab2 AA':seq[i],\n",
    "                          'dab2 pctID':letters[seq[i]]/len(align[:,i]),\n",
    "                          'AAnum dab1':refNum[i]+1,\n",
    "                          'dab1 AA':refSeq[i],\n",
    "                          'dab1 pctID':letters[refSeq[i]]/len(align[:,i]),\n",
    "                          'conservedResi':letters.most_common()[0][0],\n",
    "                          'percent ID':letters.most_common()[0][1]/len(align[:,i])})\n",
    "    return(np.array(conserved))"
   ]
  },
  {
   "cell_type": "code",
   "execution_count": 3,
   "metadata": {},
   "outputs": [
    {
     "name": "stdout",
     "output_type": "stream",
     "text": [
      "SingleLetterAlphabet() alignment with 197 rows and 1614 columns\n",
      "--------------------------------------------...--- 1163915:1:494:COG-NuoL:SAB0402:NADH\n",
      "--------------------------------------------...--- 665750:1:494:COG-NuoL:SAR0452:putative\n",
      "--------------------------------------------...--- 911962:1:494:nuoF:SACOL0494:NADH\n",
      "--------------------------------------------...--- 6212222:1:494:COG-NuoL:SauraJK_010100008930:NADH\n",
      "--------------------------------------------...--- 6213482:1:494:COG-NuoL:SauraJ_010100001606:NADH\n",
      "--------------------------------------------...--- 1291940:1:494:COG-NuoL:SAUSA300_0425:NADH\n",
      "--------------------------------------------...--- 3773960:1:494:COG-NuoL:USA300HOU_0457:NADH\n",
      "--------------------------------------------...--- 1288892:1:494:COG-NuoL:SAOUHSC_00412:NADH\n",
      "--------------------------------------------...--- 3705949:1:494:ndhF:NWMN_0418:NADH\n",
      "--------------------------------------------...--- 260621:1:494:ndhF:VIMSS260621:NADH\n",
      "--------------------------------------------...--- 668562:1:494:COG-NuoL:SAS0410:putative\n",
      "--------------------------------------------...--- 102689:1:494:ndhF:SA0411:NADH\n",
      "--------------------------------------------...--- 3678778:1:494:ndhF:SAHV_0450:NADH\n",
      "--------------------------------------------...--- 6998784:1:494:COG-NuoL:SaurJH9_0474:NADH\n",
      "--------------------------------------------...--- 112474:1:494:ndhF:SAV0452:NADH\n",
      "--------------------------------------------...--- 7001644:1:494:COG-NuoL:SaurJH1_0487:NADH\n",
      "--------------------------------------------...--- 10449096:1:494:nuoF:SAAV_0395:NADH\n",
      "--------------------------------------------...--- 6431864:1:499:COG-NuoL:STACA0001_1468:probable\n",
      "...\n",
      "--------------------------------------------...--- 11010332:3:136:Hbor_38530:Hbor_38530:Hbor_38530:469382:Halogeometricum\n",
      "number of proteins in alignment: 197\n",
      "\n",
      "ID: 7582702:13:536:COG-NuoL:Hneap_0212:NADH\n",
      "Name: <unknown name>\n",
      "Description: 7582702:13:536:COG-NuoL:Hneap_0212:NADH\n",
      "Number of features: 0\n",
      "Seq('------------------------------------------------------...---', SingleLetterAlphabet())\n",
      "\n",
      "ID: 7583425:6:533:COG-NuoL:Hneap_0909:NADH/Ubiquinone/plastoquinone\n",
      "Name: <unknown name>\n",
      "Description: 7583425:6:533:COG-NuoL:Hneap_0909:NADH/Ubiquinone/plastoquinone\n",
      "Number of features: 0\n",
      "Seq('------------------------------------------------------...---', SingleLetterAlphabet())\n"
     ]
    }
   ],
   "source": [
    "infile = \"../data/msa/dabB_microbesOnline.clustal\"\n",
    "align = AlignIO.read(infile, \"clustal\")\n",
    "print(align)\n",
    "print('number of proteins in alignment: %d'%len(align))\n",
    "print()\n",
    "dabB2 = 'Hneap_0212'\n",
    "print(getSeq(dabB2,align))\n",
    "print()\n",
    "dabB1 = 'Hneap_0909'\n",
    "print(getSeq(dabB1,align))"
   ]
  },
  {
   "cell_type": "code",
   "execution_count": 4,
   "metadata": {},
   "outputs": [
    {
     "name": "stdout",
     "output_type": "stream",
     "text": [
      "[{'AAnum dab2': 125, 'dab2 AA': 'Y', 'dab2 pctID': 0.9238578680203046, 'AAnum dab1': 104, 'dab1 AA': 'Y', 'dab1 pctID': 0.9238578680203046, 'conservedResi': 'Y', 'percent ID': 0.9238578680203046}\n",
      " {'AAnum dab2': 162, 'dab2 AA': 'I', 'dab2 pctID': 0.005076142131979695, 'AAnum dab1': 141, 'dab1 AA': 'W', 'dab1 pctID': 0.934010152284264, 'conservedResi': 'W', 'percent ID': 0.934010152284264}\n",
      " {'AAnum dab2': 172, 'dab2 AA': 'L', 'dab2 pctID': 0.949238578680203, 'AAnum dab1': 151, 'dab1 AA': 'L', 'dab1 pctID': 0.949238578680203, 'conservedResi': 'L', 'percent ID': 0.949238578680203}\n",
      " {'AAnum dab2': 252, 'dab2 AA': 'P', 'dab2 pctID': 0.9238578680203046, 'AAnum dab1': 235, 'dab1 AA': 'P', 'dab1 pctID': 0.9238578680203046, 'conservedResi': 'P', 'percent ID': 0.9238578680203046}\n",
      " {'AAnum dab2': 256, 'dab2 AA': 'W', 'dab2 pctID': 0.9593908629441624, 'AAnum dab1': 239, 'dab1 AA': 'W', 'dab1 pctID': 0.9593908629441624, 'conservedResi': 'W', 'percent ID': 0.9593908629441624}\n",
      " {'AAnum dab2': 257, 'dab2 AA': 'L', 'dab2 pctID': 0.9390862944162437, 'AAnum dab1': 240, 'dab1 AA': 'L', 'dab1 pctID': 0.9390862944162437, 'conservedResi': 'L', 'percent ID': 0.9390862944162437}\n",
      " {'AAnum dab2': 264, 'dab2 AA': 'P', 'dab2 pctID': 0.9543147208121827, 'AAnum dab1': 247, 'dab1 AA': 'P', 'dab1 pctID': 0.9543147208121827, 'conservedResi': 'P', 'percent ID': 0.9543147208121827}\n",
      " {'AAnum dab2': 265, 'dab2 AA': 'T', 'dab2 pctID': 0.9593908629441624, 'AAnum dab1': 248, 'dab1 AA': 'T', 'dab1 pctID': 0.9593908629441624, 'conservedResi': 'T', 'percent ID': 0.9593908629441624}\n",
      " {'AAnum dab2': 266, 'dab2 AA': 'P', 'dab2 pctID': 0.949238578680203, 'AAnum dab1': 249, 'dab1 AA': 'P', 'dab1 pctID': 0.949238578680203, 'conservedResi': 'P', 'percent ID': 0.949238578680203}\n",
      " {'AAnum dab2': 268, 'dab2 AA': 'S', 'dab2 pctID': 0.9644670050761421, 'AAnum dab1': 251, 'dab1 AA': 'S', 'dab1 pctID': 0.9644670050761421, 'conservedResi': 'S', 'percent ID': 0.9644670050761421}\n",
      " {'AAnum dab2': 269, 'dab2 AA': 'A', 'dab2 pctID': 0.949238578680203, 'AAnum dab1': 252, 'dab1 AA': 'A', 'dab1 pctID': 0.949238578680203, 'conservedResi': 'A', 'percent ID': 0.949238578680203}\n",
      " {'AAnum dab2': 272, 'dab2 AA': 'H', 'dab2 pctID': 0.9644670050761421, 'AAnum dab1': 255, 'dab1 AA': 'H', 'dab1 pctID': 0.9644670050761421, 'conservedResi': 'H', 'percent ID': 0.9644670050761421}\n",
      " {'AAnum dab2': 273, 'dab2 AA': 'A', 'dab2 pctID': 0.9593908629441624, 'AAnum dab1': 256, 'dab1 AA': 'A', 'dab1 pctID': 0.9593908629441624, 'conservedResi': 'A', 'percent ID': 0.9593908629441624}\n",
      " {'AAnum dab2': 274, 'dab2 AA': 'G', 'dab2 pctID': 0.9644670050761421, 'AAnum dab1': 257, 'dab1 AA': 'G', 'dab1 pctID': 0.9644670050761421, 'conservedResi': 'G', 'percent ID': 0.9644670050761421}\n",
      " {'AAnum dab2': 277, 'dab2 AA': 'Y', 'dab2 pctID': 0.015228426395939087, 'AAnum dab1': 260, 'dab1 AA': 'N', 'dab1 pctID': 0.949238578680203, 'conservedResi': 'N', 'percent ID': 0.949238578680203}\n",
      " {'AAnum dab2': 279, 'dab2 AA': 'G', 'dab2 pctID': 0.934010152284264, 'AAnum dab1': 262, 'dab1 AA': 'G', 'dab1 pctID': 0.934010152284264, 'conservedResi': 'G', 'percent ID': 0.934010152284264}\n",
      " {'AAnum dab2': 322, 'dab2 AA': 'K', 'dab2 pctID': 0.9644670050761421, 'AAnum dab1': 305, 'dab1 AA': 'K', 'dab1 pctID': 0.9644670050761421, 'conservedResi': 'K', 'percent ID': 0.9644670050761421}\n",
      " {'AAnum dab2': 325, 'dab2 AA': 'L', 'dab2 pctID': 0.9644670050761421, 'AAnum dab1': 308, 'dab1 AA': 'L', 'dab1 pctID': 0.9644670050761421, 'conservedResi': 'L', 'percent ID': 0.9644670050761421}\n",
      " {'AAnum dab2': 328, 'dab2 AA': 'S', 'dab2 pctID': 0.9644670050761421, 'AAnum dab1': 311, 'dab1 AA': 'S', 'dab1 pctID': 0.9644670050761421, 'conservedResi': 'S', 'percent ID': 0.9644670050761421}\n",
      " {'AAnum dab2': 329, 'dab2 AA': 'T', 'dab2 pctID': 0.934010152284264, 'AAnum dab1': 312, 'dab1 AA': 'T', 'dab1 pctID': 0.934010152284264, 'conservedResi': 'T', 'percent ID': 0.934010152284264}\n",
      " {'AAnum dab2': 332, 'dab2 AA': 'Q', 'dab2 pctID': 0.934010152284264, 'AAnum dab1': 315, 'dab1 AA': 'Q', 'dab1 pctID': 0.934010152284264, 'conservedResi': 'Q', 'percent ID': 0.934010152284264}\n",
      " {'AAnum dab2': 333, 'dab2 AA': 'L', 'dab2 pctID': 0.02030456852791878, 'AAnum dab1': 316, 'dab1 AA': 'M', 'dab1 pctID': 0.949238578680203, 'conservedResi': 'M', 'percent ID': 0.949238578680203}\n",
      " {'AAnum dab2': 334, 'dab2 AA': 'G', 'dab2 pctID': 0.949238578680203, 'AAnum dab1': 317, 'dab1 AA': 'G', 'dab1 pctID': 0.949238578680203, 'conservedResi': 'G', 'percent ID': 0.949238578680203}\n",
      " {'AAnum dab2': 336, 'dab2 AA': 'M', 'dab2 pctID': 0.9543147208121827, 'AAnum dab1': 319, 'dab1 AA': 'M', 'dab1 pctID': 0.9543147208121827, 'conservedResi': 'M', 'percent ID': 0.9543147208121827}\n",
      " {'AAnum dab2': 348, 'dab2 AA': 'A', 'dab2 pctID': 0.9644670050761421, 'AAnum dab1': 331, 'dab1 AA': 'A', 'dab1 pctID': 0.9644670050761421, 'conservedResi': 'A', 'percent ID': 0.9644670050761421}\n",
      " {'AAnum dab2': 351, 'dab2 AA': 'H', 'dab2 pctID': 0.9593908629441624, 'AAnum dab1': 334, 'dab1 AA': 'H', 'dab1 pctID': 0.9593908629441624, 'conservedResi': 'H', 'percent ID': 0.9593908629441624}\n",
      " {'AAnum dab2': 355, 'dab2 AA': 'H', 'dab2 pctID': 0.9644670050761421, 'AAnum dab1': 338, 'dab1 AA': 'H', 'dab1 pctID': 0.9644670050761421, 'conservedResi': 'H', 'percent ID': 0.9644670050761421}\n",
      " {'AAnum dab2': 359, 'dab2 AA': 'K', 'dab2 pctID': 0.9644670050761421, 'AAnum dab1': 342, 'dab1 AA': 'K', 'dab1 pctID': 0.9644670050761421, 'conservedResi': 'K', 'percent ID': 0.9644670050761421}\n",
      " {'AAnum dab2': 360, 'dab2 AA': 'A', 'dab2 pctID': 0.9035532994923858, 'AAnum dab1': 343, 'dab1 AA': 'G', 'dab1 pctID': 0.03553299492385787, 'conservedResi': 'A', 'percent ID': 0.9035532994923858}\n",
      " {'AAnum dab2': 363, 'dab2 AA': 'F', 'dab2 pctID': 0.9746192893401016, 'AAnum dab1': 346, 'dab1 AA': 'F', 'dab1 pctID': 0.9746192893401016, 'conservedResi': 'F', 'percent ID': 0.9746192893401016}\n",
      " {'AAnum dab2': 367, 'dab2 AA': 'G', 'dab2 pctID': 0.9137055837563451, 'AAnum dab1': 350, 'dab1 AA': 'G', 'dab1 pctID': 0.9137055837563451, 'conservedResi': 'G', 'percent ID': 0.9137055837563451}]\n"
     ]
    },
    {
     "data": {
      "image/png": "[encoded data removed]",
      "text/plain": [
       "<Figure size 1440x144 with 1 Axes>"
      ]
     },
     "metadata": {},
     "output_type": "display_data"
    },
    {
     "data": {
      "image/png": "[encoded data removed]",
      "text/plain": [
       "<Figure size 1440x144 with 1 Axes>"
      ]
     },
     "metadata": {},
     "output_type": "display_data"
    }
   ],
   "source": [
    "identity = getConserved(infile,'clustal',dabB2,dabB1,12,6)\n",
    "# goodResi = {351,353,524,539}\n",
    "ninteypct = identity[[(x['percent ID']>0.9) & (x['conservedResi'] != '-') for x in identity]]\n",
    "print(ninteypct)\n",
    "conserve_df = pd.DataFrame.from_records(identity)\n",
    "conserve_df=conserve_df.sort_values('AAnum dab2')\n",
    "goodResi = {-10}\n",
    "conserve_df['active_site'] = conserve_df['percent ID']*conserve_df['AAnum dab2'].isin(goodResi)\n",
    "\n",
    "\n",
    "plt.figure(figsize=(20,2))\n",
    "plt.bar(conserve_df['AAnum dab2'],conserve_df['dab2 pctID'])\n",
    "# active_site = conserve_df[conserve_df['AAnum dabA2'].isin(goodResi)]\n",
    "# plt.bar(active_site['AAnum dab2'],active_site['percent ID'],color = 'r')\n",
    "plt.xlim(1,max(conserve_df['AAnum dab2']))\n",
    "plt.show()\n",
    "\n",
    "plt.figure(figsize=(20,2))\n",
    "plt.bar(conserve_df['AAnum dab1'],conserve_df['dab1 pctID'])\n",
    "# active_site = conserve_df[conserve_df['AAnum dabA2'].isin(goodResi)]\n",
    "# plt.bar(active_site['AAnum dab2'],active_site['percent ID'],color = 'r')\n",
    "plt.xlim(1,max(conserve_df['AAnum dab1']))\n",
    "plt.show()\n",
    "\n",
    "conserve_df.to_csv(infile+'.csv')"
   ]
  },
  {
   "cell_type": "code",
   "execution_count": 5,
   "metadata": {},
   "outputs": [
    {
     "name": "stdout",
     "output_type": "stream",
     "text": [
      "SingleLetterAlphabet() alignment with 4781 rows and 1980 columns\n",
      "VQLAGEVIAQYWPMR-TFIHHNPLHGL--E-SLPFEQAVQ---H...GWV WP_053380624/21-1043\n",
      "VELAGEAISSYWPMR-TFIHHNPLHGL--E-ELPFGPAVK---R...EWV WP_013248325/20-1048\n",
      "VELAGEAISSYWPMR-TFIHHNPLHGL--E-DLPFGQAVK---R...EWV WP_080878007/20-1048\n",
      "-QLAGECVSQYWPMR-TFIHHNPLHGL--E-GMPFELAVE---H...GWI OYT20765/23-1041\n",
      "-QLAGECVSQYWPMR-TFIHHNPLHGL--E-RMPFELAVE---H...GWI WP_090744791/23-1041\n",
      "-RVAGEITGTYWPMR-TFIHHNPLHGL--E-ELPFHDAIQ---R...EWV WP_083448025/25-1065\n",
      "-KLASESVAPYWPMR-TFIHHNPLHEL--E-SRSFHEAVQ---R...RWV OLE42792/18-1077\n",
      "VQMAGEPIPFFWPMR-TFIHHNPLHGL--E-HMPFEQATT---E...GWI WP_081662595/15-1000\n",
      "-KLASESVAPYWPMR-TFIHHNPLHEL--E-SRSFHEAVQ---R...RWV OLC41483/18-1077\n",
      "-SLAGEVIPRVWPMQ-TIIARNPLQGL--E-DQKFEDAVE---R...QWL OYT24854/43-1071\n",
      "-SLAGEVIPRVWPMQ-TIIARNPLQGL--E-DQKFEDAVE---R...QWL SLM42748/24-1052\n",
      "-SLAGEVIPRVWPMQ-TIIARNPLQGL--E-DQKFEDAVE---R...QWL WP_080878002/43-1071\n",
      "VNLAGETISYFWPMK-TFIHHNPLHGL--E-EMSFEKAIK---E...QWI WP_005005277/24-1058\n",
      "VNLAGEVVARLWPMR-TFISRNPLQGL--E-HLPFSEAVQ---R...HWL OQW62488/23-1052\n",
      "VELAGEAIAAYWPMR-TFIHHNPLHGL--E-HLPFDQAVK---R...EWV ODT44845/20-1048\n",
      "VQLAGEVIAQYWPMR-TFVHHNPLHSL--E-YLPFEETVR---R...EWV PLY30726/21-1045\n",
      "VNLAGEVIARLWPMR-TFISRNPLQGL--E-ELSFDAAVT---R...GWM KXK07752/15-1049\n",
      "-RLAGEVIAQYWPMR-TFVHHNPLHSL--E-YLPFEETVR---R...EWV SLM47167/22-1041\n",
      "...\n",
      "--------------------------------------------...--- KMS25986/2-75\n",
      "number of proteins in alignment: 4781\n",
      "ID: WP_012823110/21-802\n",
      "Name: WP_012823110/21-802\n",
      "Description: WP_012823110/21-802\n",
      "Number of features: 0\n",
      "Seq('IDKACLRIAPIWPLD-SFVAVNPYLGL--I-DQPFDTVGR---YLEQTVGESLF...RWM', SingleLetterAlphabet())\n",
      "ID: WP_012823786/16-1003\n",
      "Name: WP_012823786/16-1003\n",
      "Description: WP_012823786/16-1003\n",
      "Number of features: 0\n",
      "Seq('VHMAAEPIPNFWPMR-TFIHHNPLHGL--E-HLPFEQAVR---QGEKLFHARGF...GWI', SingleLetterAlphabet())\n"
     ]
    }
   ],
   "source": [
    "infile = \"../data/msa/PF10070_ncbi.txt\"\n",
    "align = AlignIO.read(infile, \"fasta\")\n",
    "print(align)\n",
    "print('number of proteins in alignment: %d'%len(align))\n",
    "dabA2 = 'WP_012823110'\n",
    "print(getSeq(dabA2,align))\n",
    "dabA1 = 'WP_012823786'\n",
    "print(getSeq(dabA1,align))"
   ]
  },
  {
   "cell_type": "code",
   "execution_count": 7,
   "metadata": {
    "scrolled": false
   },
   "outputs": [
    {
     "name": "stdout",
     "output_type": "stream",
     "text": [
      "[{'AAnum dab2': 229, 'dab2 AA': 'G', 'dab2 pctID': 0.9205187199330684, 'AAnum dab1': 268, 'dab1 AA': 'G', 'dab1 pctID': 0.9205187199330684, 'conservedResi': 'G', 'percent ID': 0.9205187199330684}\n",
      " {'AAnum dab2': 230, 'dab2 AA': 'W', 'dab2 pctID': 0.9117339468730391, 'AAnum dab1': 269, 'dab1 AA': 'W', 'dab1 pctID': 0.9117339468730391, 'conservedResi': 'W', 'percent ID': 0.9117339468730391}\n",
      " {'AAnum dab2': 351, 'dab2 AA': 'C', 'dab2 pctID': 0.9192637523530642, 'AAnum dab1': 462, 'dab1 AA': 'C', 'dab1 pctID': 0.9192637523530642, 'conservedResi': 'C', 'percent ID': 0.9192637523530642}\n",
      " {'AAnum dab2': 353, 'dab2 AA': 'D', 'dab2 pctID': 0.9186362685630621, 'AAnum dab1': 464, 'dab1 AA': 'D', 'dab1 pctID': 0.9186362685630621, 'conservedResi': 'D', 'percent ID': 0.9186362685630621}\n",
      " {'AAnum dab2': 355, 'dab2 AA': 'R', 'dab2 pctID': 0.9190545910897302, 'AAnum dab1': 466, 'dab1 AA': 'R', 'dab1 pctID': 0.9190545910897302, 'conservedResi': 'R', 'percent ID': 0.9190545910897302}\n",
      " {'AAnum dab2': 360, 'dab2 AA': 'R', 'dab2 pctID': 0.9182179460363941, 'AAnum dab1': 471, 'dab1 AA': 'R', 'dab1 pctID': 0.9182179460363941, 'conservedResi': 'R', 'percent ID': 0.9182179460363941}\n",
      " {'AAnum dab2': 361, 'dab2 AA': 'R', 'dab2 pctID': 0.904622463919682, 'AAnum dab1': 472, 'dab1 AA': 'R', 'dab1 pctID': 0.904622463919682, 'conservedResi': 'R', 'percent ID': 0.904622463919682}\n",
      " {'AAnum dab2': 364, 'dab2 AA': 'E', 'dab2 pctID': 0.9161263334030537, 'AAnum dab1': 475, 'dab1 AA': 'E', 'dab1 pctID': 0.9161263334030537, 'conservedResi': 'E', 'percent ID': 0.9161263334030537}\n",
      " {'AAnum dab2': 372, 'dab2 AA': 'T', 'dab2 pctID': 0.9154988496130516, 'AAnum dab1': 482, 'dab1 AA': 'T', 'dab1 pctID': 0.9154988496130516, 'conservedResi': 'T', 'percent ID': 0.9154988496130516}\n",
      " {'AAnum dab2': 374, 'dab2 AA': 'G', 'dab2 pctID': 0.9075507216063585, 'AAnum dab1': 484, 'dab1 AA': 'G', 'dab1 pctID': 0.9075507216063585, 'conservedResi': 'G', 'percent ID': 0.9075507216063585}\n",
      " {'AAnum dab2': 377, 'dab2 AA': 'G', 'dab2 pctID': 0.9056682702363522, 'AAnum dab1': 487, 'dab1 AA': 'G', 'dab1 pctID': 0.9056682702363522, 'conservedResi': 'G', 'percent ID': 0.9056682702363522}\n",
      " {'AAnum dab2': 378, 'dab2 AA': 'F', 'dab2 pctID': 0.9054591089730182, 'AAnum dab1': 488, 'dab1 AA': 'F', 'dab1 pctID': 0.9054591089730182, 'conservedResi': 'F', 'percent ID': 0.9054591089730182}\n",
      " {'AAnum dab2': 379, 'dab2 AA': 'F', 'dab2 pctID': 0.9094331729763647, 'AAnum dab1': 489, 'dab1 AA': 'F', 'dab1 pctID': 0.9094331729763647, 'conservedResi': 'F', 'percent ID': 0.9094331729763647}\n",
      " {'AAnum dab2': 398, 'dab2 AA': 'P', 'dab2 pctID': 0.9163354946663878, 'AAnum dab1': 508, 'dab1 AA': 'P', 'dab1 pctID': 0.9163354946663878, 'conservedResi': 'P', 'percent ID': 0.9163354946663878}\n",
      " {'AAnum dab2': 524, 'dab2 AA': 'H', 'dab2 pctID': 0.9236561388830788, 'AAnum dab1': 721, 'dab1 AA': 'H', 'dab1 pctID': 0.9236561388830788, 'conservedResi': 'H', 'percent ID': 0.9236561388830788}\n",
      " {'AAnum dab2': 530, 'dab2 AA': 'N', 'dab2 pctID': 0.9230286550930767, 'AAnum dab1': 727, 'dab1 AA': 'N', 'dab1 pctID': 0.9230286550930767, 'conservedResi': 'N', 'percent ID': 0.9230286550930767}\n",
      " {'AAnum dab2': 531, 'dab2 AA': 'N', 'dab2 pctID': 0.9117339468730391, 'AAnum dab1': 728, 'dab1 AA': 'N', 'dab1 pctID': 0.9117339468730391, 'conservedResi': 'N', 'percent ID': 0.9117339468730391}\n",
      " {'AAnum dab2': 539, 'dab2 AA': 'C', 'dab2 pctID': 0.9234469776197448, 'AAnum dab1': 736, 'dab1 AA': 'C', 'dab1 pctID': 0.9234469776197448, 'conservedResi': 'C', 'percent ID': 0.9234469776197448}\n",
      " {'AAnum dab2': 540, 'dab2 AA': 'G', 'dab2 pctID': 0.9211462037230704, 'AAnum dab1': 737, 'dab1 AA': 'G', 'dab1 pctID': 0.9211462037230704, 'conservedResi': 'G', 'percent ID': 0.9211462037230704}\n",
      " {'AAnum dab2': 541, 'dab2 AA': 'A', 'dab2 pctID': 0.9228194938297427, 'AAnum dab1': 738, 'dab1 AA': 'A', 'dab1 pctID': 0.9228194938297427, 'conservedResi': 'A', 'percent ID': 0.9228194938297427}\n",
      " {'AAnum dab2': 542, 'dab2 AA': 'C', 'dab2 pctID': 0.9159171721397197, 'AAnum dab1': 739, 'dab1 AA': 'C', 'dab1 pctID': 0.9159171721397197, 'conservedResi': 'C', 'percent ID': 0.9159171721397197}\n",
      " {'AAnum dab2': 544, 'dab2 AA': 'G', 'dab2 pctID': 0.910897301819703, 'AAnum dab1': 741, 'dab1 AA': 'G', 'dab1 pctID': 0.910897301819703, 'conservedResi': 'G', 'percent ID': 0.910897301819703}\n",
      " {'AAnum dab2': 559, 'dab2 AA': 'N', 'dab2 pctID': 0.9165446559297218, 'AAnum dab1': 756, 'dab1 AA': 'N', 'dab1 pctID': 0.9165446559297218, 'conservedResi': 'N', 'percent ID': 0.9165446559297218}\n",
      " {'AAnum dab2': 585, 'dab2 AA': 'H', 'dab2 pctID': 0.9098514955030328, 'AAnum dab1': 782, 'dab1 AA': 'H', 'dab1 pctID': 0.9098514955030328, 'conservedResi': 'H', 'percent ID': 0.9098514955030328}\n",
      " {'AAnum dab2': 587, 'dab2 AA': 'T', 'dab2 pctID': 0.9219828487764066, 'AAnum dab1': 784, 'dab1 AA': 'T', 'dab1 pctID': 0.9219828487764066, 'conservedResi': 'T', 'percent ID': 0.9219828487764066}\n",
      " {'AAnum dab2': 625, 'dab2 AA': 'R', 'dab2 pctID': 0.9075507216063585, 'AAnum dab1': 823, 'dab1 AA': 'R', 'dab1 pctID': 0.9075507216063585, 'conservedResi': 'R', 'percent ID': 0.9075507216063585}\n",
      " {'AAnum dab2': 654, 'dab2 AA': 'P', 'dab2 pctID': 0.911106463083037, 'AAnum dab1': 856, 'dab1 AA': 'P', 'dab1 pctID': 0.911106463083037, 'conservedResi': 'P', 'percent ID': 0.911106463083037}\n",
      " {'AAnum dab2': 655, 'dab2 AA': 'E', 'dab2 pctID': 0.9173813009830579, 'AAnum dab1': 857, 'dab1 AA': 'E', 'dab1 pctID': 0.9173813009830579, 'conservedResi': 'E', 'percent ID': 0.9173813009830579}\n",
      " {'AAnum dab2': 669, 'dab2 AA': 'R', 'dab2 pctID': 0.9115247856097051, 'AAnum dab1': 871, 'dab1 AA': 'R', 'dab1 pctID': 0.9115247856097051, 'conservedResi': 'R', 'percent ID': 0.9115247856097051}\n",
      " {'AAnum dab2': 682, 'dab2 AA': 'F', 'dab2 pctID': 0.9138255595063794, 'AAnum dab1': 884, 'dab1 AA': 'F', 'dab1 pctID': 0.9138255595063794, 'conservedResi': 'F', 'percent ID': 0.9138255595063794}\n",
      " {'AAnum dab2': 683, 'dab2 AA': 'L', 'dab2 pctID': 0.9010667224430036, 'AAnum dab1': 885, 'dab1 AA': 'L', 'dab1 pctID': 0.9010667224430036, 'conservedResi': 'L', 'percent ID': 0.9010667224430036}\n",
      " {'AAnum dab2': 686, 'dab2 AA': 'Y', 'dab2 pctID': 0.910897301819703, 'AAnum dab1': 888, 'dab1 AA': 'Y', 'dab1 pctID': 0.910897301819703, 'conservedResi': 'Y', 'percent ID': 0.910897301819703}\n",
      " {'AAnum dab2': 691, 'dab2 AA': 'D', 'dab2 pctID': 0.9196820748797323, 'AAnum dab1': 893, 'dab1 AA': 'D', 'dab1 pctID': 0.9196820748797323, 'conservedResi': 'D', 'percent ID': 0.9196820748797323}\n",
      " {'AAnum dab2': 697, 'dab2 AA': 'L', 'dab2 pctID': 0.9119431081363731, 'AAnum dab1': 899, 'dab1 AA': 'L', 'dab1 pctID': 0.9119431081363731, 'conservedResi': 'L', 'percent ID': 0.9119431081363731}\n",
      " {'AAnum dab2': 707, 'dab2 AA': 'V', 'dab2 pctID': 0.9157080108763856, 'AAnum dab1': 909, 'dab1 AA': 'I', 'dab1 pctID': 0.003346580213344489, 'conservedResi': 'V', 'percent ID': 0.9157080108763856}\n",
      " {'AAnum dab2': 711, 'dab2 AA': 'I', 'dab2 pctID': 0.917799623509726, 'AAnum dab1': 913, 'dab1 AA': 'I', 'dab1 pctID': 0.917799623509726, 'conservedResi': 'I', 'percent ID': 0.917799623509726}\n",
      " {'AAnum dab2': 726, 'dab2 AA': 'G', 'dab2 pctID': 0.9163354946663878, 'AAnum dab1': 928, 'dab1 AA': 'G', 'dab1 pctID': 0.9163354946663878, 'conservedResi': 'G', 'percent ID': 0.9163354946663878}\n",
      " {'AAnum dab2': 728, 'dab2 AA': 'G', 'dab2 pctID': 0.9173813009830579, 'AAnum dab1': 930, 'dab1 AA': 'G', 'dab1 pctID': 0.9173813009830579, 'conservedResi': 'G', 'percent ID': 0.9173813009830579}\n",
      " {'AAnum dab2': 730, 'dab2 AA': 'K', 'dab2 pctID': 0.9190545910897302, 'AAnum dab1': 932, 'dab1 AA': 'K', 'dab1 pctID': 0.9190545910897302, 'conservedResi': 'K', 'percent ID': 0.9190545910897302}\n",
      " {'AAnum dab2': 741, 'dab2 AA': 'G', 'dab2 pctID': 0.9062957540263543, 'AAnum dab1': 942, 'dab1 AA': 'G', 'dab1 pctID': 0.9062957540263543, 'conservedResi': 'G', 'percent ID': 0.9062957540263543}\n",
      " {'AAnum dab2': 745, 'dab2 AA': 'G', 'dab2 pctID': 0.91800878477306, 'AAnum dab1': 946, 'dab1 AA': 'G', 'dab1 pctID': 0.91800878477306, 'conservedResi': 'G', 'percent ID': 0.91800878477306}\n",
      " {'AAnum dab2': 750, 'dab2 AA': 'L', 'dab2 pctID': 0.9065049152896884, 'AAnum dab1': 951, 'dab1 AA': 'L', 'dab1 pctID': 0.9065049152896884, 'conservedResi': 'L', 'percent ID': 0.9065049152896884}\n",
      " {'AAnum dab2': 753, 'dab2 AA': 'G', 'dab2 pctID': 0.9196820748797323, 'AAnum dab1': 954, 'dab1 AA': 'G', 'dab1 pctID': 0.9196820748797323, 'conservedResi': 'G', 'percent ID': 0.9196820748797323}\n",
      " {'AAnum dab2': 754, 'dab2 AA': 'L', 'dab2 pctID': 0.9088056891863627, 'AAnum dab1': 955, 'dab1 AA': 'L', 'dab1 pctID': 0.9088056891863627, 'conservedResi': 'L', 'percent ID': 0.9088056891863627}\n",
      " {'AAnum dab2': 757, 'dab2 AA': 'Q', 'dab2 pctID': 0.917799623509726, 'AAnum dab1': 958, 'dab1 AA': 'Q', 'dab1 pctID': 0.917799623509726, 'conservedResi': 'Q', 'percent ID': 0.917799623509726}\n",
      " {'AAnum dab2': 767, 'dab2 AA': 'H', 'dab2 pctID': 0.9192637523530642, 'AAnum dab1': 968, 'dab1 AA': 'H', 'dab1 pctID': 0.9192637523530642, 'conservedResi': 'H', 'percent ID': 0.9192637523530642}\n",
      " {'AAnum dab2': 771, 'dab2 AA': 'R', 'dab2 pctID': 0.917590462246392, 'AAnum dab1': 972, 'dab1 AA': 'R', 'dab1 pctID': 0.917590462246392, 'conservedResi': 'R', 'percent ID': 0.917590462246392}\n",
      " {'AAnum dab2': 801, 'dab2 AA': 'W', 'dab2 pctID': 0.91800878477306, 'AAnum dab1': 1002, 'dab1 AA': 'W', 'dab1 pctID': 0.91800878477306, 'conservedResi': 'W', 'percent ID': 0.91800878477306}]\n"
     ]
    },
    {
     "data": {
      "image/png": "[encoded data removed]",
      "text/plain": [
       "<Figure size 1440x144 with 1 Axes>"
      ]
     },
     "metadata": {},
     "output_type": "display_data"
    },
    {
     "data": {
      "image/png": "[encoded data removed]",
      "text/plain": [
       "<Figure size 1440x144 with 1 Axes>"
      ]
     },
     "metadata": {},
     "output_type": "display_data"
    }
   ],
   "source": [
    "identity = getConserved(infile,'fasta',dabA2,dabA1,20,15)\n",
    "goodResi = {351,353,524,539}\n",
    "ninteypct = identity[[(x['percent ID']>0.9) & (x['conservedResi'] != '-') for x in identity]]\n",
    "print(ninteypct)\n",
    "\n",
    "conserve_df = pd.DataFrame.from_records(identity)\n",
    "conserve_df=conserve_df.sort_values('AAnum dab2')\n",
    "plt.figure(figsize=(20,2))\n",
    "plt.bar(conserve_df['AAnum dab2'],conserve_df['dab2 pctID'])\n",
    "goodResi = {351,353,524,539}\n",
    "conserve_df['active_siteD1'] = conserve_df['dab1 pctID']*conserve_df['AAnum dab2'].isin(goodResi)\n",
    "conserve_df['active_siteD2'] = conserve_df['dab2 pctID']*conserve_df['AAnum dab2'].isin(goodResi)\n",
    "\n",
    "plt.bar(conserve_df['AAnum dab2'],conserve_df['active_siteD2'],color = 'r')\n",
    "plt.xlim(1,max(conserve_df['AAnum dab2']))\n",
    "plt.show()\n",
    "\n",
    "plt.figure(figsize=(20,2))\n",
    "plt.bar(conserve_df['AAnum dab1'],conserve_df['dab1 pctID'])\n",
    "plt.bar(conserve_df['AAnum dab1'],conserve_df['active_siteD1'],color = 'r')\n",
    "plt.xlim(1,max(conserve_df['AAnum dab1']))\n",
    "plt.show()\n",
    "\n",
    "conserve_df.to_csv(infile+'.csv')"
   ]
  },
  {
   "cell_type": "code",
   "execution_count": null,
   "metadata": {},
   "outputs": [],
   "source": []
  }
 ],
 "metadata": {
  "kernelspec": {
   "display_name": "Python 3",
   "language": "python",
   "name": "python3"
  },
  "language_info": {
   "codemirror_mode": {
    "name": "ipython",
    "version": 3
   },
   "file_extension": ".py",
   "mimetype": "text/x-python",
   "name": "python",
   "nbconvert_exporter": "python",
   "pygments_lexer": "ipython3",
   "version": "3.6.5"
  }
 },
 "nbformat": 4,
 "nbformat_minor": 2
}
